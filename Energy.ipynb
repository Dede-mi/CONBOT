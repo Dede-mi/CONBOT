{
  "nbformat": 4,
  "nbformat_minor": 0,
  "metadata": {
    "colab": {
      "provenance": [],
      "authorship_tag": "ABX9TyMNlZv2fbk+ZZVKukRacckA",
      "include_colab_link": true
    },
    "kernelspec": {
      "name": "python3",
      "display_name": "Python 3"
    },
    "language_info": {
      "name": "python"
    }
  },
  "cells": [
    {
      "cell_type": "markdown",
      "metadata": {
        "id": "view-in-github",
        "colab_type": "text"
      },
      "source": [
        "<a href=\"https://colab.research.google.com/github/Dede-mi/CONBOT/blob/main/Energy.ipynb\" target=\"_parent\"><img src=\"https://colab.research.google.com/assets/colab-badge.svg\" alt=\"Open In Colab\"/></a>"
      ]
    },
    {
      "cell_type": "markdown",
      "source": [
        "# New Section"
      ],
      "metadata": {
        "id": "DvIb3eKCcbMj"
      }
    },
    {
      "cell_type": "markdown",
      "source": [
        "Install necessary packages"
      ],
      "metadata": {
        "id": "AXSjxrUuffH4"
      }
    },
    {
      "cell_type": "code",
      "execution_count": null,
      "metadata": {
        "id": "N340rQRAcP04"
      },
      "outputs": [],
      "source": [
        "!pip install llama_index llama-hub unstructured\n",
        "\n",
        "pip install cohere\n",
        "\n",
        "!pip install llama_hub\n",
        "\n",
        "%load_ext autoreload\n",
        "%autoreload 2"
      ]
    },
    {
      "cell_type": "markdown",
      "source": [
        "Setupp and download data"
      ],
      "metadata": {
        "id": "6qKfOClsm1nz"
      }
    },
    {
      "cell_type": "code",
      "source": [
        "domain = \"docs.llamaindex.ai\"\n",
        "docs_url = \"https://docs.llamaindex.ai/en/latest/\"\n",
        "!wget -e robots=off --recursive --no-clobber --page-requisites --html-extension --convert-links --restrict-file-names=windows --domains {domain} --no-parent {docs_url}"
      ],
      "metadata": {
        "id": "mD6caS5_m5GN"
      },
      "execution_count": null,
      "outputs": []
    },
    {
      "cell_type": "markdown",
      "source": [
        "Import necessary packages"
      ],
      "metadata": {
        "id": "Ku53Qm2yi_s5"
      }
    },
    {
      "cell_type": "code",
      "source": [
        "import os\n",
        "import openai\n",
        "import cohere\n",
        "from google.colab import userdata\n",
        "\n",
        "os.environ[\"OPENAI_API_KEY\"] = userdata.get('OA1')\n",
        "os.environ[\"COHERE_API_KEY\"] = userdata.get('CO1')"
      ],
      "metadata": {
        "id": "uiMqwUcsfe2B"
      },
      "execution_count": null,
      "outputs": []
    },
    {
      "cell_type": "markdown",
      "source": [],
      "metadata": {
        "id": "_ZqYSDSmgVQH"
      }
    },
    {
      "cell_type": "markdown",
      "source": [],
      "metadata": {
        "id": "wfQxtN03gZNm"
      }
    }
  ]
}